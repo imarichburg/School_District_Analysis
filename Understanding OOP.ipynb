{
 "cells": [
  {
   "cell_type": "code",
   "execution_count": 3,
   "id": "f321e38a",
   "metadata": {},
   "outputs": [],
   "source": [
    "import pandas as pd\n"
   ]
  },
  {
   "cell_type": "code",
   "execution_count": 4,
   "id": "ba6f4795",
   "metadata": {},
   "outputs": [],
   "source": [
    "#Create a class \"Cat\" with one object,\"self\", and one parameter passed into self called \"name\"\n",
    "class Cat:\n",
    "    #__init__ is a function in the class \"Cat\"\n",
    "    def __init__(self, name):\n",
    "        #creating the reference to the variable \"nameofcat\"\n",
    "        self.nameofcat = name"
   ]
  },
  {
   "cell_type": "code",
   "execution_count": 5,
   "id": "51976788",
   "metadata": {},
   "outputs": [
    {
     "name": "stdout",
     "output_type": "stream",
     "text": [
      "Felix\n"
     ]
    }
   ],
   "source": [
    "#Create and assign an object, \"first_cat\", in the Cat class and passing in the name 'Felix'\n",
    "first_cat = Cat('Felix')\n",
    "#print new object \"first_cat\" and the variable\n",
    "print(first_cat.nameofcat)"
   ]
  },
  {
   "cell_type": "code",
   "execution_count": 6,
   "id": "8d8b2503",
   "metadata": {},
   "outputs": [
    {
     "name": "stdout",
     "output_type": "stream",
     "text": [
      "Garfield\n",
      "Meat Head\n"
     ]
    }
   ],
   "source": [
    "second_cat = Cat('Garfield')\n",
    "print(second_cat.nameofcat)\n",
    "third_cat = Cat('Meat Head')\n",
    "print(third_cat.nameofcat)"
   ]
  },
  {
   "cell_type": "code",
   "execution_count": 7,
   "id": "25c58d51",
   "metadata": {},
   "outputs": [],
   "source": [
    "class Dog:\n",
    "    def __init__(self, name, color, sound):\n",
    "        self.nameofdog = name\n",
    "        self.colorofdog = color\n",
    "        self.soundofdog = sound\n",
    "\n",
    "    def bark(self):\n",
    "        return self.soundofdog + ' ' + self.soundofdog"
   ]
  },
  {
   "cell_type": "code",
   "execution_count": 8,
   "id": "acaed5ed",
   "metadata": {},
   "outputs": [
    {
     "name": "stdout",
     "output_type": "stream",
     "text": [
      "Fido\n",
      "brown\n",
      "woof! woof!\n"
     ]
    }
   ],
   "source": [
    "first_dog = Dog('Fido', 'brown', 'woof!')\n",
    "print(    first_dog.nameofdog)\n",
    "print(first_dog.colorofdog)\n",
    "first_dog.bark()\n",
    "print(first_dog.bark())"
   ]
  },
  {
   "cell_type": "code",
   "execution_count": 9,
   "id": "a20f770b",
   "metadata": {},
   "outputs": [
    {
     "name": "stdout",
     "output_type": "stream",
     "text": [
      "green\n"
     ]
    }
   ],
   "source": [
    "newDog = Dog('Ringo','green',\"loo\")\n",
    "print(newDog.colorofdog)"
   ]
  },
  {
   "cell_type": "code",
   "execution_count": null,
   "id": "25893de6",
   "metadata": {},
   "outputs": [],
   "source": []
  }
 ],
 "metadata": {
  "kernelspec": {
   "display_name": "PythonData",
   "language": "python",
   "name": "pythondata"
  },
  "language_info": {
   "codemirror_mode": {
    "name": "ipython",
    "version": 3
   },
   "file_extension": ".py",
   "mimetype": "text/x-python",
   "name": "python",
   "nbconvert_exporter": "python",
   "pygments_lexer": "ipython3",
   "version": "3.8.12"
  }
 },
 "nbformat": 4,
 "nbformat_minor": 5
}
